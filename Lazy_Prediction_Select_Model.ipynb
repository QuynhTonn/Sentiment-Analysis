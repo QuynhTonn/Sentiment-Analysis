{
 "cells": [
  {
   "cell_type": "code",
   "execution_count": 1,
   "metadata": {},
   "outputs": [
    {
     "name": "stderr",
     "output_type": "stream",
     "text": [
      "C:\\Users\\quynh\\AppData\\Roaming\\Python\\Python38\\site-packages\\sklearn\\utils\\deprecation.py:143: FutureWarning: The sklearn.utils.testing module is  deprecated in version 0.22 and will be removed in version 0.24. The corresponding classes / functions should instead be imported from sklearn.utils. Anything that cannot be imported from sklearn.utils is now part of the private API.\n",
      "  warnings.warn(message, FutureWarning)\n"
     ]
    },
    {
     "name": "stdout",
     "output_type": "stream",
     "text": [
      "importing Jupyter notebook from Lib_Evaluation_Classification_Model.ipynb\n"
     ]
    }
   ],
   "source": [
    "from lazypredict.Supervised import LazyClassifier\n",
    "from sklearn.feature_extraction.text import CountVectorizer\n",
    "from sklearn.model_selection import train_test_split\n",
    "import pandas as pd\n",
    "import numpy as np\n",
    "import import_ipynb\n",
    "from Lib_Evaluation_Classification_Model import *"
   ]
  },
  {
   "cell_type": "markdown",
   "metadata": {},
   "source": [
    "### Load data"
   ]
  },
  {
   "cell_type": "code",
   "execution_count": 3,
   "metadata": {},
   "outputs": [],
   "source": [
    "data = pd.read_csv(\"data_Foody_pre.csv\")"
   ]
  },
  {
   "cell_type": "code",
   "execution_count": 4,
   "metadata": {},
   "outputs": [
    {
     "data": {
      "text/html": [
       "<div>\n",
       "<style scoped>\n",
       "    .dataframe tbody tr th:only-of-type {\n",
       "        vertical-align: middle;\n",
       "    }\n",
       "\n",
       "    .dataframe tbody tr th {\n",
       "        vertical-align: top;\n",
       "    }\n",
       "\n",
       "    .dataframe thead th {\n",
       "        text-align: right;\n",
       "    }\n",
       "</style>\n",
       "<table border=\"1\" class=\"dataframe\">\n",
       "  <thead>\n",
       "    <tr style=\"text-align: right;\">\n",
       "      <th></th>\n",
       "      <th>restaurant</th>\n",
       "      <th>review_score</th>\n",
       "      <th>review_text_t1</th>\n",
       "    </tr>\n",
       "  </thead>\n",
       "  <tbody>\n",
       "    <tr>\n",
       "      <th>0</th>\n",
       "      <td>Good Morning Restaurant</td>\n",
       "      <td>8.20</td>\n",
       "      <td>hải_sản ghé rẻ đẹp</td>\n",
       "    </tr>\n",
       "    <tr>\n",
       "      <th>1</th>\n",
       "      <td>Hạt Dẻ Trùng Khánh</td>\n",
       "      <td>8.00</td>\n",
       "      <td>đông đối_diện thích hạt_dẻ hẳn chuyên_nghiệp l...</td>\n",
       "    </tr>\n",
       "    <tr>\n",
       "      <th>2</th>\n",
       "      <td>Bột - Healthy &amp; Weight Loss Food - Shop Online</td>\n",
       "      <td>8.20</td>\n",
       "      <td>khuyến_mãi đọc thử đồ_ăn đa_số hơi khô thử</td>\n",
       "    </tr>\n",
       "    <tr>\n",
       "      <th>3</th>\n",
       "      <td>Bánh Giò Chợ Nguyễn Công Trứ</td>\n",
       "      <td>8.20</td>\n",
       "      <td>nguyễn_công_trứ thẳng đông lộn ngải_cứu kèm tu...</td>\n",
       "    </tr>\n",
       "    <tr>\n",
       "      <th>4</th>\n",
       "      <td>Quán Quảng - Bún Quảng</td>\n",
       "      <td>9.00</td>\n",
       "      <td>ngãi thơm kế sò ốc mềm không_thích dầu_mỡ chả_...</td>\n",
       "    </tr>\n",
       "  </tbody>\n",
       "</table>\n",
       "</div>"
      ],
      "text/plain": [
       "                                       restaurant  review_score  \\\n",
       "0                         Good Morning Restaurant          8.20   \n",
       "1                              Hạt Dẻ Trùng Khánh          8.00   \n",
       "2  Bột - Healthy & Weight Loss Food - Shop Online          8.20   \n",
       "3                    Bánh Giò Chợ Nguyễn Công Trứ          8.20   \n",
       "4                          Quán Quảng - Bún Quảng          9.00   \n",
       "\n",
       "                                      review_text_t1  \n",
       "0                                 hải_sản ghé rẻ đẹp  \n",
       "1  đông đối_diện thích hạt_dẻ hẳn chuyên_nghiệp l...  \n",
       "2         khuyến_mãi đọc thử đồ_ăn đa_số hơi khô thử  \n",
       "3  nguyễn_công_trứ thẳng đông lộn ngải_cứu kèm tu...  \n",
       "4  ngãi thơm kế sò ốc mềm không_thích dầu_mỡ chả_...  "
      ]
     },
     "execution_count": 4,
     "metadata": {},
     "output_type": "execute_result"
    }
   ],
   "source": [
    "data = data[['restaurant', 'review_score', 'review_text_t1']]\n",
    "data.head()"
   ]
  },
  {
   "cell_type": "code",
   "execution_count": 5,
   "metadata": {},
   "outputs": [
    {
     "name": "stdout",
     "output_type": "stream",
     "text": [
      "<class 'pandas.core.frame.DataFrame'>\n",
      "RangeIndex: 38676 entries, 0 to 38675\n",
      "Data columns (total 3 columns):\n",
      " #   Column          Non-Null Count  Dtype  \n",
      "---  ------          --------------  -----  \n",
      " 0   restaurant      38676 non-null  object \n",
      " 1   review_score    38676 non-null  float64\n",
      " 2   review_text_t1  38676 non-null  object \n",
      "dtypes: float64(1), object(2)\n",
      "memory usage: 906.6+ KB\n"
     ]
    }
   ],
   "source": [
    "data.info()"
   ]
  },
  {
   "cell_type": "markdown",
   "metadata": {},
   "source": [
    "### Data preparation"
   ]
  },
  {
   "cell_type": "code",
   "execution_count": 6,
   "metadata": {},
   "outputs": [],
   "source": [
    "# Process target data\n",
    "# data['target'] = 'neutral'\n",
    "# data['target'][data['review_score']>7] = 'positive'\n",
    "# data['target'][(data['review_score']>5)&(data['review_score']<7)] = 'negative'\n",
    "data['target'] = 0 # negative\n",
    "data['target'][data['review_score']>7] = 2 # positive\n",
    "data['target'][(data['review_score']>=5)&(data['review_score']<=7)] = 1 # neutral"
   ]
  },
  {
   "cell_type": "code",
   "execution_count": 7,
   "metadata": {},
   "outputs": [
    {
     "data": {
      "text/html": [
       "<div>\n",
       "<style scoped>\n",
       "    .dataframe tbody tr th:only-of-type {\n",
       "        vertical-align: middle;\n",
       "    }\n",
       "\n",
       "    .dataframe tbody tr th {\n",
       "        vertical-align: top;\n",
       "    }\n",
       "\n",
       "    .dataframe thead th {\n",
       "        text-align: right;\n",
       "    }\n",
       "</style>\n",
       "<table border=\"1\" class=\"dataframe\">\n",
       "  <thead>\n",
       "    <tr style=\"text-align: right;\">\n",
       "      <th></th>\n",
       "      <th>restaurant</th>\n",
       "      <th>review_score</th>\n",
       "      <th>review_text_t1</th>\n",
       "      <th>target</th>\n",
       "    </tr>\n",
       "  </thead>\n",
       "  <tbody>\n",
       "    <tr>\n",
       "      <th>0</th>\n",
       "      <td>Good Morning Restaurant</td>\n",
       "      <td>8.20</td>\n",
       "      <td>hải_sản ghé rẻ đẹp</td>\n",
       "      <td>2</td>\n",
       "    </tr>\n",
       "    <tr>\n",
       "      <th>1</th>\n",
       "      <td>Hạt Dẻ Trùng Khánh</td>\n",
       "      <td>8.00</td>\n",
       "      <td>đông đối_diện thích hạt_dẻ hẳn chuyên_nghiệp l...</td>\n",
       "      <td>2</td>\n",
       "    </tr>\n",
       "    <tr>\n",
       "      <th>2</th>\n",
       "      <td>Bột - Healthy &amp; Weight Loss Food - Shop Online</td>\n",
       "      <td>8.20</td>\n",
       "      <td>khuyến_mãi đọc thử đồ_ăn đa_số hơi khô thử</td>\n",
       "      <td>2</td>\n",
       "    </tr>\n",
       "    <tr>\n",
       "      <th>3</th>\n",
       "      <td>Bánh Giò Chợ Nguyễn Công Trứ</td>\n",
       "      <td>8.20</td>\n",
       "      <td>nguyễn_công_trứ thẳng đông lộn ngải_cứu kèm tu...</td>\n",
       "      <td>2</td>\n",
       "    </tr>\n",
       "    <tr>\n",
       "      <th>4</th>\n",
       "      <td>Quán Quảng - Bún Quảng</td>\n",
       "      <td>9.00</td>\n",
       "      <td>ngãi thơm kế sò ốc mềm không_thích dầu_mỡ chả_...</td>\n",
       "      <td>2</td>\n",
       "    </tr>\n",
       "  </tbody>\n",
       "</table>\n",
       "</div>"
      ],
      "text/plain": [
       "                                       restaurant  review_score  \\\n",
       "0                         Good Morning Restaurant          8.20   \n",
       "1                              Hạt Dẻ Trùng Khánh          8.00   \n",
       "2  Bột - Healthy & Weight Loss Food - Shop Online          8.20   \n",
       "3                    Bánh Giò Chợ Nguyễn Công Trứ          8.20   \n",
       "4                          Quán Quảng - Bún Quảng          9.00   \n",
       "\n",
       "                                      review_text_t1  target  \n",
       "0                                 hải_sản ghé rẻ đẹp       2  \n",
       "1  đông đối_diện thích hạt_dẻ hẳn chuyên_nghiệp l...       2  \n",
       "2         khuyến_mãi đọc thử đồ_ăn đa_số hơi khô thử       2  \n",
       "3  nguyễn_công_trứ thẳng đông lộn ngải_cứu kèm tu...       2  \n",
       "4  ngãi thơm kế sò ốc mềm không_thích dầu_mỡ chả_...       2  "
      ]
     },
     "execution_count": 7,
     "metadata": {},
     "output_type": "execute_result"
    }
   ],
   "source": [
    "data.head()"
   ]
  },
  {
   "cell_type": "code",
   "execution_count": 8,
   "metadata": {},
   "outputs": [
    {
     "data": {
      "text/plain": [
       "pandas.core.series.Series"
      ]
     },
     "execution_count": 8,
     "metadata": {},
     "output_type": "execute_result"
    }
   ],
   "source": [
    "# Process text data\n",
    "source = data['review_text_t1']\n",
    "type(source)"
   ]
  },
  {
   "cell_type": "code",
   "execution_count": 9,
   "metadata": {},
   "outputs": [
    {
     "data": {
      "text/plain": [
       "0                                   hải_sản ghé rẻ đẹp\n",
       "1    đông đối_diện thích hạt_dẻ hẳn chuyên_nghiệp l...\n",
       "2           khuyến_mãi đọc thử đồ_ăn đa_số hơi khô thử\n",
       "3    nguyễn_công_trứ thẳng đông lộn ngải_cứu kèm tu...\n",
       "4    ngãi thơm kế sò ốc mềm không_thích dầu_mỡ chả_...\n",
       "Name: review_text_t1, dtype: object"
      ]
     },
     "execution_count": 9,
     "metadata": {},
     "output_type": "execute_result"
    }
   ],
   "source": [
    "source[:5]"
   ]
  },
  {
   "cell_type": "code",
   "execution_count": 10,
   "metadata": {},
   "outputs": [
    {
     "data": {
      "text/plain": [
       "array(['hải_sản ghé rẻ đẹp',\n",
       "       'đông đối_diện thích hạt_dẻ hẳn chuyên_nghiệp lắm bự hư thơm_nức lành thử',\n",
       "       'khuyến_mãi đọc thử đồ_ăn đa_số hơi khô thử', ...,\n",
       "       'thoáng mát nhiệt_tình xuất', 'chừ đầy_đặn',\n",
       "       'bạch công_việc ghé vô uống chờ rước lý_tưởng mát_mẻ tệ không_chuyên_nghiệp phục_vụ đợi uống kêu toán uống bình_thường tạm mắc hơi'],\n",
       "      dtype=object)"
      ]
     },
     "execution_count": 10,
     "metadata": {},
     "output_type": "execute_result"
    }
   ],
   "source": [
    "text_data = np.array(source)\n",
    "text_data"
   ]
  },
  {
   "cell_type": "code",
   "execution_count": 11,
   "metadata": {},
   "outputs": [
    {
     "data": {
      "text/plain": [
       "<38676x1000 sparse matrix of type '<class 'numpy.int64'>'\n",
       "\twith 342627 stored elements in Compressed Sparse Row format>"
      ]
     },
     "execution_count": 11,
     "metadata": {},
     "output_type": "execute_result"
    }
   ],
   "source": [
    "count = CountVectorizer(max_features=1000) \n",
    "count.fit(text_data)\n",
    "bag_of_words = count.transform(text_data)\n",
    "bag_of_words"
   ]
  },
  {
   "cell_type": "code",
   "execution_count": 12,
   "metadata": {},
   "outputs": [
    {
     "data": {
      "text/plain": [
       "array([[0, 0, 0, ..., 0, 0, 0],\n",
       "       [0, 0, 0, ..., 0, 0, 0],\n",
       "       [0, 0, 0, ..., 0, 0, 0],\n",
       "       ...,\n",
       "       [0, 0, 0, ..., 0, 0, 0],\n",
       "       [0, 0, 0, ..., 0, 0, 0],\n",
       "       [0, 0, 0, ..., 0, 0, 0]], dtype=int64)"
      ]
     },
     "execution_count": 12,
     "metadata": {},
     "output_type": "execute_result"
    }
   ],
   "source": [
    "X = bag_of_words.toarray()\n",
    "X"
   ]
  },
  {
   "cell_type": "code",
   "execution_count": 13,
   "metadata": {},
   "outputs": [
    {
     "data": {
      "text/plain": [
       "(38676, 1000)"
      ]
     },
     "execution_count": 13,
     "metadata": {},
     "output_type": "execute_result"
    }
   ],
   "source": [
    "X.shape"
   ]
  },
  {
   "cell_type": "code",
   "execution_count": 14,
   "metadata": {},
   "outputs": [
    {
     "data": {
      "text/plain": [
       "target\n",
       "0     5742\n",
       "1     4465\n",
       "2    28469\n",
       "Name: review_text_t1, dtype: int64"
      ]
     },
     "execution_count": 14,
     "metadata": {},
     "output_type": "execute_result"
    }
   ],
   "source": [
    "data.groupby('target').review_text_t1.count()"
   ]
  },
  {
   "cell_type": "code",
   "execution_count": 15,
   "metadata": {},
   "outputs": [],
   "source": [
    "y = np.array(data['target'])"
   ]
  },
  {
   "cell_type": "code",
   "execution_count": 16,
   "metadata": {},
   "outputs": [
    {
     "data": {
      "text/plain": [
       "(38676,)"
      ]
     },
     "execution_count": 16,
     "metadata": {},
     "output_type": "execute_result"
    }
   ],
   "source": [
    "y.shape"
   ]
  },
  {
   "cell_type": "code",
   "execution_count": 17,
   "metadata": {},
   "outputs": [],
   "source": [
    "# Split dataset\n",
    "X_train, X_test, y_train, y_test = train_test_split(X, y, test_size=0.2)"
   ]
  },
  {
   "cell_type": "code",
   "execution_count": 18,
   "metadata": {},
   "outputs": [
    {
     "data": {
      "text/plain": [
       "numpy.ndarray"
      ]
     },
     "execution_count": 18,
     "metadata": {},
     "output_type": "execute_result"
    }
   ],
   "source": [
    "type(y_train)"
   ]
  },
  {
   "cell_type": "markdown",
   "metadata": {},
   "source": [
    "### Apply Lazy Predict"
   ]
  },
  {
   "cell_type": "code",
   "execution_count": 19,
   "metadata": {},
   "outputs": [
    {
     "name": "stderr",
     "output_type": "stream",
     "text": [
      "100%|███████████████████████████████████████████████████████████████████████████████| 29/29 [1:49:24<00:00, 226.35s/it]\n"
     ]
    }
   ],
   "source": [
    "clf = LazyClassifier(verbose=0, ignore_warnings=True, custom_metric=None)\n",
    "models, prediction = clf.fit(X_train, X_test, y_train, y_test)"
   ]
  },
  {
   "cell_type": "code",
   "execution_count": 20,
   "metadata": {},
   "outputs": [
    {
     "data": {
      "text/html": [
       "<div>\n",
       "<style scoped>\n",
       "    .dataframe tbody tr th:only-of-type {\n",
       "        vertical-align: middle;\n",
       "    }\n",
       "\n",
       "    .dataframe tbody tr th {\n",
       "        vertical-align: top;\n",
       "    }\n",
       "\n",
       "    .dataframe thead th {\n",
       "        text-align: right;\n",
       "    }\n",
       "</style>\n",
       "<table border=\"1\" class=\"dataframe\">\n",
       "  <thead>\n",
       "    <tr style=\"text-align: right;\">\n",
       "      <th></th>\n",
       "      <th>Accuracy</th>\n",
       "      <th>Balanced Accuracy</th>\n",
       "      <th>ROC AUC</th>\n",
       "      <th>F1 Score</th>\n",
       "      <th>Time Taken</th>\n",
       "    </tr>\n",
       "    <tr>\n",
       "      <th>Model</th>\n",
       "      <th></th>\n",
       "      <th></th>\n",
       "      <th></th>\n",
       "      <th></th>\n",
       "      <th></th>\n",
       "    </tr>\n",
       "  </thead>\n",
       "  <tbody>\n",
       "    <tr>\n",
       "      <th>NearestCentroid</th>\n",
       "      <td>0.73</td>\n",
       "      <td>0.66</td>\n",
       "      <td>None</td>\n",
       "      <td>0.75</td>\n",
       "      <td>2.29</td>\n",
       "    </tr>\n",
       "    <tr>\n",
       "      <th>BernoulliNB</th>\n",
       "      <td>0.77</td>\n",
       "      <td>0.64</td>\n",
       "      <td>None</td>\n",
       "      <td>0.77</td>\n",
       "      <td>2.60</td>\n",
       "    </tr>\n",
       "    <tr>\n",
       "      <th>LogisticRegression</th>\n",
       "      <td>0.81</td>\n",
       "      <td>0.59</td>\n",
       "      <td>None</td>\n",
       "      <td>0.78</td>\n",
       "      <td>9.64</td>\n",
       "    </tr>\n",
       "    <tr>\n",
       "      <th>Perceptron</th>\n",
       "      <td>0.77</td>\n",
       "      <td>0.59</td>\n",
       "      <td>None</td>\n",
       "      <td>0.76</td>\n",
       "      <td>3.31</td>\n",
       "    </tr>\n",
       "    <tr>\n",
       "      <th>SGDClassifier</th>\n",
       "      <td>0.80</td>\n",
       "      <td>0.58</td>\n",
       "      <td>None</td>\n",
       "      <td>0.77</td>\n",
       "      <td>38.89</td>\n",
       "    </tr>\n",
       "    <tr>\n",
       "      <th>LinearSVC</th>\n",
       "      <td>0.80</td>\n",
       "      <td>0.57</td>\n",
       "      <td>None</td>\n",
       "      <td>0.77</td>\n",
       "      <td>248.30</td>\n",
       "    </tr>\n",
       "    <tr>\n",
       "      <th>LGBMClassifier</th>\n",
       "      <td>0.81</td>\n",
       "      <td>0.56</td>\n",
       "      <td>None</td>\n",
       "      <td>0.77</td>\n",
       "      <td>17.29</td>\n",
       "    </tr>\n",
       "    <tr>\n",
       "      <th>ExtraTreesClassifier</th>\n",
       "      <td>0.80</td>\n",
       "      <td>0.55</td>\n",
       "      <td>None</td>\n",
       "      <td>0.75</td>\n",
       "      <td>184.56</td>\n",
       "    </tr>\n",
       "    <tr>\n",
       "      <th>PassiveAggressiveClassifier</th>\n",
       "      <td>0.76</td>\n",
       "      <td>0.55</td>\n",
       "      <td>None</td>\n",
       "      <td>0.74</td>\n",
       "      <td>6.12</td>\n",
       "    </tr>\n",
       "    <tr>\n",
       "      <th>BaggingClassifier</th>\n",
       "      <td>0.75</td>\n",
       "      <td>0.55</td>\n",
       "      <td>None</td>\n",
       "      <td>0.73</td>\n",
       "      <td>214.27</td>\n",
       "    </tr>\n",
       "    <tr>\n",
       "      <th>XGBClassifier</th>\n",
       "      <td>0.81</td>\n",
       "      <td>0.55</td>\n",
       "      <td>None</td>\n",
       "      <td>0.76</td>\n",
       "      <td>130.31</td>\n",
       "    </tr>\n",
       "    <tr>\n",
       "      <th>RandomForestClassifier</th>\n",
       "      <td>0.79</td>\n",
       "      <td>0.55</td>\n",
       "      <td>None</td>\n",
       "      <td>0.75</td>\n",
       "      <td>83.49</td>\n",
       "    </tr>\n",
       "    <tr>\n",
       "      <th>LinearDiscriminantAnalysis</th>\n",
       "      <td>0.79</td>\n",
       "      <td>0.55</td>\n",
       "      <td>None</td>\n",
       "      <td>0.76</td>\n",
       "      <td>10.43</td>\n",
       "    </tr>\n",
       "    <tr>\n",
       "      <th>GaussianNB</th>\n",
       "      <td>0.47</td>\n",
       "      <td>0.54</td>\n",
       "      <td>None</td>\n",
       "      <td>0.51</td>\n",
       "      <td>2.91</td>\n",
       "    </tr>\n",
       "    <tr>\n",
       "      <th>DecisionTreeClassifier</th>\n",
       "      <td>0.71</td>\n",
       "      <td>0.54</td>\n",
       "      <td>None</td>\n",
       "      <td>0.71</td>\n",
       "      <td>44.70</td>\n",
       "    </tr>\n",
       "    <tr>\n",
       "      <th>QuadraticDiscriminantAnalysis</th>\n",
       "      <td>0.53</td>\n",
       "      <td>0.52</td>\n",
       "      <td>None</td>\n",
       "      <td>0.57</td>\n",
       "      <td>9.16</td>\n",
       "    </tr>\n",
       "    <tr>\n",
       "      <th>AdaBoostClassifier</th>\n",
       "      <td>0.79</td>\n",
       "      <td>0.52</td>\n",
       "      <td>None</td>\n",
       "      <td>0.75</td>\n",
       "      <td>50.19</td>\n",
       "    </tr>\n",
       "    <tr>\n",
       "      <th>CalibratedClassifierCV</th>\n",
       "      <td>0.80</td>\n",
       "      <td>0.52</td>\n",
       "      <td>None</td>\n",
       "      <td>0.75</td>\n",
       "      <td>946.06</td>\n",
       "    </tr>\n",
       "    <tr>\n",
       "      <th>RidgeClassifier</th>\n",
       "      <td>0.79</td>\n",
       "      <td>0.51</td>\n",
       "      <td>None</td>\n",
       "      <td>0.74</td>\n",
       "      <td>2.86</td>\n",
       "    </tr>\n",
       "    <tr>\n",
       "      <th>RidgeClassifierCV</th>\n",
       "      <td>0.79</td>\n",
       "      <td>0.51</td>\n",
       "      <td>None</td>\n",
       "      <td>0.74</td>\n",
       "      <td>9.28</td>\n",
       "    </tr>\n",
       "    <tr>\n",
       "      <th>ExtraTreeClassifier</th>\n",
       "      <td>0.69</td>\n",
       "      <td>0.51</td>\n",
       "      <td>None</td>\n",
       "      <td>0.69</td>\n",
       "      <td>4.35</td>\n",
       "    </tr>\n",
       "    <tr>\n",
       "      <th>SVC</th>\n",
       "      <td>0.79</td>\n",
       "      <td>0.50</td>\n",
       "      <td>None</td>\n",
       "      <td>0.73</td>\n",
       "      <td>3998.64</td>\n",
       "    </tr>\n",
       "    <tr>\n",
       "      <th>KNeighborsClassifier</th>\n",
       "      <td>0.71</td>\n",
       "      <td>0.45</td>\n",
       "      <td>None</td>\n",
       "      <td>0.68</td>\n",
       "      <td>531.75</td>\n",
       "    </tr>\n",
       "    <tr>\n",
       "      <th>DummyClassifier</th>\n",
       "      <td>0.58</td>\n",
       "      <td>0.34</td>\n",
       "      <td>None</td>\n",
       "      <td>0.58</td>\n",
       "      <td>2.27</td>\n",
       "    </tr>\n",
       "  </tbody>\n",
       "</table>\n",
       "</div>"
      ],
      "text/plain": [
       "                               Accuracy  Balanced Accuracy ROC AUC  F1 Score  \\\n",
       "Model                                                                          \n",
       "NearestCentroid                    0.73               0.66    None      0.75   \n",
       "BernoulliNB                        0.77               0.64    None      0.77   \n",
       "LogisticRegression                 0.81               0.59    None      0.78   \n",
       "Perceptron                         0.77               0.59    None      0.76   \n",
       "SGDClassifier                      0.80               0.58    None      0.77   \n",
       "LinearSVC                          0.80               0.57    None      0.77   \n",
       "LGBMClassifier                     0.81               0.56    None      0.77   \n",
       "ExtraTreesClassifier               0.80               0.55    None      0.75   \n",
       "PassiveAggressiveClassifier        0.76               0.55    None      0.74   \n",
       "BaggingClassifier                  0.75               0.55    None      0.73   \n",
       "XGBClassifier                      0.81               0.55    None      0.76   \n",
       "RandomForestClassifier             0.79               0.55    None      0.75   \n",
       "LinearDiscriminantAnalysis         0.79               0.55    None      0.76   \n",
       "GaussianNB                         0.47               0.54    None      0.51   \n",
       "DecisionTreeClassifier             0.71               0.54    None      0.71   \n",
       "QuadraticDiscriminantAnalysis      0.53               0.52    None      0.57   \n",
       "AdaBoostClassifier                 0.79               0.52    None      0.75   \n",
       "CalibratedClassifierCV             0.80               0.52    None      0.75   \n",
       "RidgeClassifier                    0.79               0.51    None      0.74   \n",
       "RidgeClassifierCV                  0.79               0.51    None      0.74   \n",
       "ExtraTreeClassifier                0.69               0.51    None      0.69   \n",
       "SVC                                0.79               0.50    None      0.73   \n",
       "KNeighborsClassifier               0.71               0.45    None      0.68   \n",
       "DummyClassifier                    0.58               0.34    None      0.58   \n",
       "\n",
       "                               Time Taken  \n",
       "Model                                      \n",
       "NearestCentroid                      2.29  \n",
       "BernoulliNB                          2.60  \n",
       "LogisticRegression                   9.64  \n",
       "Perceptron                           3.31  \n",
       "SGDClassifier                       38.89  \n",
       "LinearSVC                          248.30  \n",
       "LGBMClassifier                      17.29  \n",
       "ExtraTreesClassifier               184.56  \n",
       "PassiveAggressiveClassifier          6.12  \n",
       "BaggingClassifier                  214.27  \n",
       "XGBClassifier                      130.31  \n",
       "RandomForestClassifier              83.49  \n",
       "LinearDiscriminantAnalysis          10.43  \n",
       "GaussianNB                           2.91  \n",
       "DecisionTreeClassifier              44.70  \n",
       "QuadraticDiscriminantAnalysis        9.16  \n",
       "AdaBoostClassifier                  50.19  \n",
       "CalibratedClassifierCV             946.06  \n",
       "RidgeClassifier                      2.86  \n",
       "RidgeClassifierCV                    9.28  \n",
       "ExtraTreeClassifier                  4.35  \n",
       "SVC                               3998.64  \n",
       "KNeighborsClassifier               531.75  \n",
       "DummyClassifier                      2.27  "
      ]
     },
     "execution_count": 20,
     "metadata": {},
     "output_type": "execute_result"
    }
   ],
   "source": [
    "models"
   ]
  },
  {
   "cell_type": "markdown",
   "metadata": {},
   "source": [
    "Nhận xét:\n",
    "* 5 thuật toán cho kết quả tốt nhất là: NearestCentroid, BernoulliNB, Logistic Regression, Perceptron, SGDClassifier.\n",
    "* Theo như bảng trên, Logistic Regression là thuật toán cho kết quả tốt nhất và thời gian tương đối ngắn\n",
    "* Thử lần lượt các thuật toán để tìm ra thuật toán tối ưu"
   ]
  },
  {
   "cell_type": "code",
   "execution_count": null,
   "metadata": {},
   "outputs": [],
   "source": []
  }
 ],
 "metadata": {
  "kernelspec": {
   "display_name": "Python 3",
   "language": "python",
   "name": "python3"
  },
  "language_info": {
   "codemirror_mode": {
    "name": "ipython",
    "version": 3
   },
   "file_extension": ".py",
   "mimetype": "text/x-python",
   "name": "python",
   "nbconvert_exporter": "python",
   "pygments_lexer": "ipython3",
   "version": "3.8.5"
  }
 },
 "nbformat": 4,
 "nbformat_minor": 4
}
