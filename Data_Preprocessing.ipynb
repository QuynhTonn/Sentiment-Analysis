{
 "cells": [
  {
   "cell_type": "code",
   "execution_count": 1,
   "metadata": {},
   "outputs": [
    {
     "name": "stdout",
     "output_type": "stream",
     "text": [
      "importing Jupyter notebook from NLP_Pre_Libs.ipynb\n"
     ]
    }
   ],
   "source": [
    "from underthesea import word_tokenize, pos_tag, sent_tokenize\n",
    "import regex\n",
    "import demoji\n",
    "import pandas as pd\n",
    "import numpy as np\n",
    "from pyvi import ViPosTagger, ViTokenizer\n",
    "import import_ipynb\n",
    "from NLP_Pre_Libs import *"
   ]
  },
  {
   "cell_type": "code",
   "execution_count": 2,
   "metadata": {},
   "outputs": [],
   "source": [
    "data = pd.read_csv('data_Foody.csv')"
   ]
  },
  {
   "cell_type": "code",
   "execution_count": 3,
   "metadata": {},
   "outputs": [
    {
     "name": "stdout",
     "output_type": "stream",
     "text": [
      "<class 'pandas.core.frame.DataFrame'>\n",
      "RangeIndex: 39925 entries, 0 to 39924\n",
      "Data columns (total 4 columns):\n",
      " #   Column        Non-Null Count  Dtype  \n",
      "---  ------        --------------  -----  \n",
      " 0   Unnamed: 0    39925 non-null  int64  \n",
      " 1   restaurant    39925 non-null  object \n",
      " 2   review_text   39925 non-null  object \n",
      " 3   review_score  39925 non-null  float64\n",
      "dtypes: float64(1), int64(1), object(2)\n",
      "memory usage: 1.2+ MB\n"
     ]
    }
   ],
   "source": [
    "data.info()"
   ]
  },
  {
   "cell_type": "code",
   "execution_count": 4,
   "metadata": {},
   "outputs": [
    {
     "data": {
      "text/html": [
       "<div>\n",
       "<style scoped>\n",
       "    .dataframe tbody tr th:only-of-type {\n",
       "        vertical-align: middle;\n",
       "    }\n",
       "\n",
       "    .dataframe tbody tr th {\n",
       "        vertical-align: top;\n",
       "    }\n",
       "\n",
       "    .dataframe thead th {\n",
       "        text-align: right;\n",
       "    }\n",
       "</style>\n",
       "<table border=\"1\" class=\"dataframe\">\n",
       "  <thead>\n",
       "    <tr style=\"text-align: right;\">\n",
       "      <th></th>\n",
       "      <th>Unnamed: 0</th>\n",
       "      <th>restaurant</th>\n",
       "      <th>review_text</th>\n",
       "      <th>review_score</th>\n",
       "    </tr>\n",
       "  </thead>\n",
       "  <tbody>\n",
       "    <tr>\n",
       "      <th>0</th>\n",
       "      <td>0</td>\n",
       "      <td>Good Morning Restaurant</td>\n",
       "      <td>Pizza phong cách Ý. Ngán hải sản nên cả nhà gh...</td>\n",
       "      <td>8.2</td>\n",
       "    </tr>\n",
       "    <tr>\n",
       "      <th>1</th>\n",
       "      <td>1</td>\n",
       "      <td>Hạt Dẻ Trùng Khánh</td>\n",
       "      <td>- Vị trí: chỉ là 1 chiếc xe nho nhỏ nằm ở khu ...</td>\n",
       "      <td>8.0</td>\n",
       "    </tr>\n",
       "    <tr>\n",
       "      <th>2</th>\n",
       "      <td>2</td>\n",
       "      <td>Bột - Healthy &amp; Weight Loss Food - Shop Online</td>\n",
       "      <td>Nay lang thang trên BM thấy đang khuyến mãi xo...</td>\n",
       "      <td>8.2</td>\n",
       "    </tr>\n",
       "    <tr>\n",
       "      <th>3</th>\n",
       "      <td>3</td>\n",
       "      <td>Bánh Giò Chợ Nguyễn Công Trứ</td>\n",
       "      <td>Quán nằm trong chợ Nguyễn Công Trứ, cũng dễ tì...</td>\n",
       "      <td>8.2</td>\n",
       "    </tr>\n",
       "    <tr>\n",
       "      <th>4</th>\n",
       "      <td>4</td>\n",
       "      <td>Quán Quảng - Bún Quảng</td>\n",
       "      <td>Ngãi heo với heo thiệttttt 🐷🐷🐷\\n🤤🤤 bún nem chả...</td>\n",
       "      <td>9.0</td>\n",
       "    </tr>\n",
       "  </tbody>\n",
       "</table>\n",
       "</div>"
      ],
      "text/plain": [
       "   Unnamed: 0                                      restaurant  \\\n",
       "0           0                         Good Morning Restaurant   \n",
       "1           1                              Hạt Dẻ Trùng Khánh   \n",
       "2           2  Bột - Healthy & Weight Loss Food - Shop Online   \n",
       "3           3                    Bánh Giò Chợ Nguyễn Công Trứ   \n",
       "4           4                          Quán Quảng - Bún Quảng   \n",
       "\n",
       "                                         review_text  review_score  \n",
       "0  Pizza phong cách Ý. Ngán hải sản nên cả nhà gh...           8.2  \n",
       "1  - Vị trí: chỉ là 1 chiếc xe nho nhỏ nằm ở khu ...           8.0  \n",
       "2  Nay lang thang trên BM thấy đang khuyến mãi xo...           8.2  \n",
       "3  Quán nằm trong chợ Nguyễn Công Trứ, cũng dễ tì...           8.2  \n",
       "4  Ngãi heo với heo thiệttttt 🐷🐷🐷\\n🤤🤤 bún nem chả...           9.0  "
      ]
     },
     "execution_count": 4,
     "metadata": {},
     "output_type": "execute_result"
    }
   ],
   "source": [
    "data.head()"
   ]
  },
  {
   "cell_type": "code",
   "execution_count": 5,
   "metadata": {},
   "outputs": [
    {
     "name": "stdout",
     "output_type": "stream",
     "text": [
      "Before drop: 39925\n",
      "After drop: 39925\n"
     ]
    }
   ],
   "source": [
    "# Check duplicate value\n",
    "print('Before drop:',data.shape[0])\n",
    "data = data.drop_duplicates()\n",
    "print('After drop:',data.shape[0])"
   ]
  },
  {
   "cell_type": "code",
   "execution_count": 6,
   "metadata": {},
   "outputs": [],
   "source": [
    "# Check nan, null values\n",
    "nan_rows = data[data.isna().T.any()]\n",
    "null_rows = data[data.isnull().T.any()]"
   ]
  },
  {
   "cell_type": "code",
   "execution_count": 7,
   "metadata": {},
   "outputs": [
    {
     "data": {
      "text/html": [
       "<div>\n",
       "<style scoped>\n",
       "    .dataframe tbody tr th:only-of-type {\n",
       "        vertical-align: middle;\n",
       "    }\n",
       "\n",
       "    .dataframe tbody tr th {\n",
       "        vertical-align: top;\n",
       "    }\n",
       "\n",
       "    .dataframe thead th {\n",
       "        text-align: right;\n",
       "    }\n",
       "</style>\n",
       "<table border=\"1\" class=\"dataframe\">\n",
       "  <thead>\n",
       "    <tr style=\"text-align: right;\">\n",
       "      <th></th>\n",
       "      <th>Unnamed: 0</th>\n",
       "      <th>restaurant</th>\n",
       "      <th>review_text</th>\n",
       "      <th>review_score</th>\n",
       "    </tr>\n",
       "  </thead>\n",
       "  <tbody>\n",
       "  </tbody>\n",
       "</table>\n",
       "</div>"
      ],
      "text/plain": [
       "Empty DataFrame\n",
       "Columns: [Unnamed: 0, restaurant, review_text, review_score]\n",
       "Index: []"
      ]
     },
     "execution_count": 7,
     "metadata": {},
     "output_type": "execute_result"
    }
   ],
   "source": [
    "nan_rows"
   ]
  },
  {
   "cell_type": "code",
   "execution_count": 8,
   "metadata": {},
   "outputs": [
    {
     "data": {
      "text/html": [
       "<div>\n",
       "<style scoped>\n",
       "    .dataframe tbody tr th:only-of-type {\n",
       "        vertical-align: middle;\n",
       "    }\n",
       "\n",
       "    .dataframe tbody tr th {\n",
       "        vertical-align: top;\n",
       "    }\n",
       "\n",
       "    .dataframe thead th {\n",
       "        text-align: right;\n",
       "    }\n",
       "</style>\n",
       "<table border=\"1\" class=\"dataframe\">\n",
       "  <thead>\n",
       "    <tr style=\"text-align: right;\">\n",
       "      <th></th>\n",
       "      <th>Unnamed: 0</th>\n",
       "      <th>restaurant</th>\n",
       "      <th>review_text</th>\n",
       "      <th>review_score</th>\n",
       "    </tr>\n",
       "  </thead>\n",
       "  <tbody>\n",
       "  </tbody>\n",
       "</table>\n",
       "</div>"
      ],
      "text/plain": [
       "Empty DataFrame\n",
       "Columns: [Unnamed: 0, restaurant, review_text, review_score]\n",
       "Index: []"
      ]
     },
     "execution_count": 8,
     "metadata": {},
     "output_type": "execute_result"
    }
   ],
   "source": [
    "null_rows"
   ]
  },
  {
   "cell_type": "markdown",
   "metadata": {},
   "source": [
    "Nhận xét:\n",
    "* Không có dữ liệu trùng\n",
    "* Không có dữ liệu nan/null"
   ]
  },
  {
   "cell_type": "code",
   "execution_count": 9,
   "metadata": {},
   "outputs": [
    {
     "data": {
      "text/html": [
       "<div>\n",
       "<style scoped>\n",
       "    .dataframe tbody tr th:only-of-type {\n",
       "        vertical-align: middle;\n",
       "    }\n",
       "\n",
       "    .dataframe tbody tr th {\n",
       "        vertical-align: top;\n",
       "    }\n",
       "\n",
       "    .dataframe thead th {\n",
       "        text-align: right;\n",
       "    }\n",
       "</style>\n",
       "<table border=\"1\" class=\"dataframe\">\n",
       "  <thead>\n",
       "    <tr style=\"text-align: right;\">\n",
       "      <th></th>\n",
       "      <th>Unnamed: 0</th>\n",
       "      <th>restaurant</th>\n",
       "      <th>review_text</th>\n",
       "      <th>review_score</th>\n",
       "      <th>review_text_t1</th>\n",
       "    </tr>\n",
       "  </thead>\n",
       "  <tbody>\n",
       "    <tr>\n",
       "      <th>0</th>\n",
       "      <td>0</td>\n",
       "      <td>Good Morning Restaurant</td>\n",
       "      <td>Pizza phong cách Ý. Ngán hải sản nên cả nhà gh...</td>\n",
       "      <td>8.2</td>\n",
       "      <td>hải_sản ghé rẻ đẹp</td>\n",
       "    </tr>\n",
       "    <tr>\n",
       "      <th>1</th>\n",
       "      <td>1</td>\n",
       "      <td>Hạt Dẻ Trùng Khánh</td>\n",
       "      <td>- Vị trí: chỉ là 1 chiếc xe nho nhỏ nằm ở khu ...</td>\n",
       "      <td>8.0</td>\n",
       "      <td>đông đối_diện thích hạt_dẻ hẳn chuyên_nghiệp l...</td>\n",
       "    </tr>\n",
       "  </tbody>\n",
       "</table>\n",
       "</div>"
      ],
      "text/plain": [
       "   Unnamed: 0               restaurant  \\\n",
       "0           0  Good Morning Restaurant   \n",
       "1           1       Hạt Dẻ Trùng Khánh   \n",
       "\n",
       "                                         review_text  review_score  \\\n",
       "0  Pizza phong cách Ý. Ngán hải sản nên cả nhà gh...           8.2   \n",
       "1  - Vị trí: chỉ là 1 chiếc xe nho nhỏ nằm ở khu ...           8.0   \n",
       "\n",
       "                                      review_text_t1  \n",
       "0                                 hải_sản ghé rẻ đẹp  \n",
       "1  đông đối_diện thích hạt_dẻ hẳn chuyên_nghiệp l...  "
      ]
     },
     "execution_count": 9,
     "metadata": {},
     "output_type": "execute_result"
    }
   ],
   "source": [
    "import string\n",
    "# Preprocessing review text [emojicon, teencode, stopwords...]\n",
    "data['review_text_t1'] = data.review_text.apply(lambda x: clean_text_thesea(str(x), emoji_dict, teen_dict, wrong_lst, stopwords_lst))\n",
    "data.head(2)"
   ]
  },
  {
   "cell_type": "code",
   "execution_count": 10,
   "metadata": {},
   "outputs": [],
   "source": [
    "data_new = data[data.review_text_t1 != ' ']\n",
    "data_new = data[data.review_text_t1 != '']"
   ]
  },
  {
   "cell_type": "code",
   "execution_count": 11,
   "metadata": {},
   "outputs": [
    {
     "data": {
      "text/plain": [
       "(38676, 5)"
      ]
     },
     "execution_count": 11,
     "metadata": {},
     "output_type": "execute_result"
    }
   ],
   "source": [
    "data_new.shape"
   ]
  },
  {
   "cell_type": "code",
   "execution_count": 16,
   "metadata": {},
   "outputs": [],
   "source": [
    "data_new[['restaurant','review_text','review_score','review_text_t1']].to_csv(\"data_Foody_pre.csv\")"
   ]
  },
  {
   "cell_type": "code",
   "execution_count": 17,
   "metadata": {},
   "outputs": [],
   "source": [
    "data_now = pd.read_csv(\"data_Foody_pre.csv\")"
   ]
  },
  {
   "cell_type": "code",
   "execution_count": 18,
   "metadata": {},
   "outputs": [
    {
     "name": "stdout",
     "output_type": "stream",
     "text": [
      "<class 'pandas.core.frame.DataFrame'>\n",
      "RangeIndex: 38676 entries, 0 to 38675\n",
      "Data columns (total 5 columns):\n",
      " #   Column          Non-Null Count  Dtype  \n",
      "---  ------          --------------  -----  \n",
      " 0   Unnamed: 0      38676 non-null  int64  \n",
      " 1   restaurant      38676 non-null  object \n",
      " 2   review_text     38676 non-null  object \n",
      " 3   review_score    38676 non-null  float64\n",
      " 4   review_text_t1  38676 non-null  object \n",
      "dtypes: float64(1), int64(1), object(3)\n",
      "memory usage: 1.5+ MB\n"
     ]
    }
   ],
   "source": [
    "data_now.info()"
   ]
  },
  {
   "cell_type": "code",
   "execution_count": 19,
   "metadata": {},
   "outputs": [
    {
     "data": {
      "text/html": [
       "<div>\n",
       "<style scoped>\n",
       "    .dataframe tbody tr th:only-of-type {\n",
       "        vertical-align: middle;\n",
       "    }\n",
       "\n",
       "    .dataframe tbody tr th {\n",
       "        vertical-align: top;\n",
       "    }\n",
       "\n",
       "    .dataframe thead th {\n",
       "        text-align: right;\n",
       "    }\n",
       "</style>\n",
       "<table border=\"1\" class=\"dataframe\">\n",
       "  <thead>\n",
       "    <tr style=\"text-align: right;\">\n",
       "      <th></th>\n",
       "      <th>Unnamed: 0</th>\n",
       "      <th>restaurant</th>\n",
       "      <th>review_text</th>\n",
       "      <th>review_score</th>\n",
       "      <th>review_text_t1</th>\n",
       "    </tr>\n",
       "  </thead>\n",
       "  <tbody>\n",
       "    <tr>\n",
       "      <th>0</th>\n",
       "      <td>0</td>\n",
       "      <td>Good Morning Restaurant</td>\n",
       "      <td>Pizza phong cách Ý. Ngán hải sản nên cả nhà gh...</td>\n",
       "      <td>8.2</td>\n",
       "      <td>hải_sản ghé rẻ đẹp</td>\n",
       "    </tr>\n",
       "    <tr>\n",
       "      <th>1</th>\n",
       "      <td>1</td>\n",
       "      <td>Hạt Dẻ Trùng Khánh</td>\n",
       "      <td>- Vị trí: chỉ là 1 chiếc xe nho nhỏ nằm ở khu ...</td>\n",
       "      <td>8.0</td>\n",
       "      <td>đông đối_diện thích hạt_dẻ hẳn chuyên_nghiệp l...</td>\n",
       "    </tr>\n",
       "    <tr>\n",
       "      <th>2</th>\n",
       "      <td>2</td>\n",
       "      <td>Bột - Healthy &amp; Weight Loss Food - Shop Online</td>\n",
       "      <td>Nay lang thang trên BM thấy đang khuyến mãi xo...</td>\n",
       "      <td>8.2</td>\n",
       "      <td>khuyến_mãi đọc thử đồ_ăn đa_số hơi khô thử</td>\n",
       "    </tr>\n",
       "    <tr>\n",
       "      <th>3</th>\n",
       "      <td>3</td>\n",
       "      <td>Bánh Giò Chợ Nguyễn Công Trứ</td>\n",
       "      <td>Quán nằm trong chợ Nguyễn Công Trứ, cũng dễ tì...</td>\n",
       "      <td>8.2</td>\n",
       "      <td>nguyễn_công_trứ thẳng đông lộn ngải_cứu kèm tu...</td>\n",
       "    </tr>\n",
       "    <tr>\n",
       "      <th>4</th>\n",
       "      <td>4</td>\n",
       "      <td>Quán Quảng - Bún Quảng</td>\n",
       "      <td>Ngãi heo với heo thiệttttt 🐷🐷🐷\\n🤤🤤 bún nem chả...</td>\n",
       "      <td>9.0</td>\n",
       "      <td>ngãi thơm kế sò ốc mềm không_thích dầu_mỡ chả_...</td>\n",
       "    </tr>\n",
       "  </tbody>\n",
       "</table>\n",
       "</div>"
      ],
      "text/plain": [
       "   Unnamed: 0                                      restaurant  \\\n",
       "0           0                         Good Morning Restaurant   \n",
       "1           1                              Hạt Dẻ Trùng Khánh   \n",
       "2           2  Bột - Healthy & Weight Loss Food - Shop Online   \n",
       "3           3                    Bánh Giò Chợ Nguyễn Công Trứ   \n",
       "4           4                          Quán Quảng - Bún Quảng   \n",
       "\n",
       "                                         review_text  review_score  \\\n",
       "0  Pizza phong cách Ý. Ngán hải sản nên cả nhà gh...           8.2   \n",
       "1  - Vị trí: chỉ là 1 chiếc xe nho nhỏ nằm ở khu ...           8.0   \n",
       "2  Nay lang thang trên BM thấy đang khuyến mãi xo...           8.2   \n",
       "3  Quán nằm trong chợ Nguyễn Công Trứ, cũng dễ tì...           8.2   \n",
       "4  Ngãi heo với heo thiệttttt 🐷🐷🐷\\n🤤🤤 bún nem chả...           9.0   \n",
       "\n",
       "                                      review_text_t1  \n",
       "0                                 hải_sản ghé rẻ đẹp  \n",
       "1  đông đối_diện thích hạt_dẻ hẳn chuyên_nghiệp l...  \n",
       "2         khuyến_mãi đọc thử đồ_ăn đa_số hơi khô thử  \n",
       "3  nguyễn_công_trứ thẳng đông lộn ngải_cứu kèm tu...  \n",
       "4  ngãi thơm kế sò ốc mềm không_thích dầu_mỡ chả_...  "
      ]
     },
     "execution_count": 19,
     "metadata": {},
     "output_type": "execute_result"
    }
   ],
   "source": [
    "data_now.head()"
   ]
  },
  {
   "cell_type": "code",
   "execution_count": null,
   "metadata": {},
   "outputs": [],
   "source": []
  }
 ],
 "metadata": {
  "kernelspec": {
   "display_name": "Python 3",
   "language": "python",
   "name": "python3"
  },
  "language_info": {
   "codemirror_mode": {
    "name": "ipython",
    "version": 3
   },
   "file_extension": ".py",
   "mimetype": "text/x-python",
   "name": "python",
   "nbconvert_exporter": "python",
   "pygments_lexer": "ipython3",
   "version": "3.8.5"
  }
 },
 "nbformat": 4,
 "nbformat_minor": 4
}
