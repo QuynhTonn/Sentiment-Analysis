{
 "cells": [
  {
   "cell_type": "code",
   "execution_count": 26,
   "metadata": {},
   "outputs": [],
   "source": [
    "import numpy as np\n",
    "import pandas as pd\n",
    "import matplotlib.pyplot as plt\n",
    "import seaborn as sns\n",
    "sns.set_style(\"white\")"
   ]
  },
  {
   "cell_type": "markdown",
   "metadata": {},
   "source": [
    "### Tính toán kết quả dự báo và dữ liệu thật"
   ]
  },
  {
   "cell_type": "code",
   "execution_count": 27,
   "metadata": {},
   "outputs": [],
   "source": [
    "from sklearn.metrics import classification_report,confusion_matrix\n",
    "from sklearn.metrics import precision_score, recall_score, f1_score\n",
    "from sklearn.metrics import accuracy_score\n",
    "\n",
    "def Static_score_model_class(y,y_pred,aver=None):\n",
    "    accuracy = accuracy_score(y,y_pred)\n",
    "    precision = precision_score(y,y_pred,average=aver)\n",
    "    recall = recall_score(y,y_pred,average=aver)\n",
    "    f1 = f1_score(y,y_pred,average=aver)\n",
    "    return accuracy, recall, precision, f1\n"
   ]
  },
  {
   "cell_type": "markdown",
   "metadata": {},
   "source": [
    "### Trực quan hóa"
   ]
  },
  {
   "cell_type": "code",
   "execution_count": 28,
   "metadata": {},
   "outputs": [],
   "source": [
    "def Visualize_confusion_matrix(y,y_pred):\n",
    "    cm = confusion_matrix(y, y_pred)\n",
    "    cm_df = pd.DataFrame(cm)\n",
    "    plt.figure(figsize=(6,5))\n",
    "    sns.heatmap(cm_df, annot=True,fmt='g',cmap='Blues')\n",
    "    plt.title('Accuracy:{0:.3f}'.format(accuracy_score(y,y_pred)))\n",
    "    plt.ylabel('True Values')\n",
    "    plt.xlabel('Predicted Values')\n",
    "    plt.show()\n",
    "    return\n"
   ]
  },
  {
   "cell_type": "code",
   "execution_count": 29,
   "metadata": {},
   "outputs": [],
   "source": [
    "# Nếu có nhiều hơn 2 thuộc tính X thì phải dùng PCA để giảm xuống còn 2\n",
    "def Visualize_data(X1,X2,y,title):\n",
    "    plt.figure(figsize=(6,5))\n",
    "    sns.scatterplot(X1 , X2,hue=y,cmap='Sequential')\n",
    "    plt.title(title)\n",
    "    plt.show()\n",
    "    return\n"
   ]
  },
  {
   "cell_type": "code",
   "execution_count": 30,
   "metadata": {},
   "outputs": [],
   "source": [
    "from sklearn.metrics import roc_curve\n",
    "from sklearn.metrics import roc_auc_score\n",
    "def ROC_AUC(y,y_prob):\n",
    "    # calculate roc curves\n",
    "    fpr, tpr, threshold = roc_curve(y, y_prob)\n",
    "    # calculate scores\n",
    "    model_auc = roc_auc_score(y, y_prob)\n",
    "    # plot the roc curve for the model\n",
    "    plt.plot([0,1], [0,1], linestyle='--', label='No Skill' )\n",
    "    plt.plot(fpr, tpr, marker='.', label='Model - AUC=%.3f' %  (model_auc))\n",
    "    # show axis labels and the legend\n",
    "    plt.xlabel('False Positive Rate')\n",
    "    plt.ylabel('True Positive Rate')\n",
    "    plt.legend()\n",
    "    plt.show(block=False)\n",
    "    return\n",
    "# Dùng cho dữ liệu balance\n"
   ]
  },
  {
   "cell_type": "code",
   "execution_count": 41,
   "metadata": {},
   "outputs": [],
   "source": [
    "from sklearn.metrics import precision_recall_curve\n",
    "from sklearn.metrics import auc\n",
    "def Precision_Recall_AUC(y,y_prob):\n",
    "    # calculate roc curves\n",
    "    precision, recall, threshold = precision_recall_curve(y, y_prob)\n",
    "    # calculate scores\n",
    "    model_auc = auc(recall, precision)\n",
    "    \n",
    "    # plot the roc curve for the model\n",
    "    ns=len(y[y==1])/len(y)\n",
    "    plt.plot([0,1], [ns,ns], linestyle='--', label='No Skill' )\n",
    "    plt.plot(recall, precision, marker='.', label='Model - AUC=%.3f' %  (model_auc))\n",
    "    \n",
    "    # show axis labels and the legend\n",
    "    plt.xlabel('Recall')\n",
    "    plt.ylabel('Precision')\n",
    "    plt.legend()\n",
    "    plt.show()\n",
    "    return"
   ]
  },
  {
   "cell_type": "markdown",
   "metadata": {},
   "source": [
    "### Xác định ngưỡng tối ưu"
   ]
  },
  {
   "cell_type": "code",
   "execution_count": 3,
   "metadata": {},
   "outputs": [],
   "source": [
    "def Threshold_PrecisionRecall(y,y_prob):\n",
    "    # calculate roc curves\n",
    "    precision, recall, threshold = precision_recall_curve(y, y_prob)\n",
    "    scores= (2 * precision * recall)/(precision + recall) \n",
    "    pos= np.argmax(scores)\n",
    "    return threshold[pos],scores[pos]\n"
   ]
  },
  {
   "cell_type": "code",
   "execution_count": 4,
   "metadata": {},
   "outputs": [],
   "source": [
    "def Threshold_ROC(y,y_prob):\n",
    "    # calculate roc curves\n",
    "    fpr, tpr, threshold = roc_curve(y, y_prob)\n",
    "    scores=tpr-fpr\n",
    "    pos= np.argmax(scores)\n",
    "    return threshold[pos],scores[pos]\n",
    "#scores được tính linh động tùy theo nhu cầu"
   ]
  },
  {
   "cell_type": "code",
   "execution_count": 5,
   "metadata": {},
   "outputs": [],
   "source": [
    "import pickle\n",
    "\n",
    "def Save_object(obj,filename):\n",
    "    with open(filename, 'wb') as file:\n",
    "        pickle.dump(obj,filename)\n",
    "    return"
   ]
  },
  {
   "cell_type": "markdown",
   "metadata": {},
   "source": [
    "### Kiểm tra hàm định nghĩa"
   ]
  },
  {
   "cell_type": "code",
   "execution_count": 32,
   "metadata": {},
   "outputs": [
    {
     "data": {
      "text/html": [
       "<div>\n",
       "<style scoped>\n",
       "    .dataframe tbody tr th:only-of-type {\n",
       "        vertical-align: middle;\n",
       "    }\n",
       "\n",
       "    .dataframe tbody tr th {\n",
       "        vertical-align: top;\n",
       "    }\n",
       "\n",
       "    .dataframe thead th {\n",
       "        text-align: right;\n",
       "    }\n",
       "</style>\n",
       "<table border=\"1\" class=\"dataframe\">\n",
       "  <thead>\n",
       "    <tr style=\"text-align: right;\">\n",
       "      <th></th>\n",
       "      <th>Actual Value</th>\n",
       "      <th>Predict Value</th>\n",
       "      <th>Probality</th>\n",
       "    </tr>\n",
       "  </thead>\n",
       "  <tbody>\n",
       "    <tr>\n",
       "      <th>0</th>\n",
       "      <td>0</td>\n",
       "      <td>0</td>\n",
       "      <td>0.114713</td>\n",
       "    </tr>\n",
       "    <tr>\n",
       "      <th>1</th>\n",
       "      <td>0</td>\n",
       "      <td>0</td>\n",
       "      <td>0.141124</td>\n",
       "    </tr>\n",
       "    <tr>\n",
       "      <th>2</th>\n",
       "      <td>0</td>\n",
       "      <td>0</td>\n",
       "      <td>0.172431</td>\n",
       "    </tr>\n",
       "    <tr>\n",
       "      <th>3</th>\n",
       "      <td>0</td>\n",
       "      <td>0</td>\n",
       "      <td>0.208993</td>\n",
       "    </tr>\n",
       "    <tr>\n",
       "      <th>4</th>\n",
       "      <td>0</td>\n",
       "      <td>0</td>\n",
       "      <td>0.250956</td>\n",
       "    </tr>\n",
       "  </tbody>\n",
       "</table>\n",
       "</div>"
      ],
      "text/plain": [
       "   Actual Value  Predict Value  Probality\n",
       "0             0              0   0.114713\n",
       "1             0              0   0.141124\n",
       "2             0              0   0.172431\n",
       "3             0              0   0.208993\n",
       "4             0              0   0.250956"
      ]
     },
     "execution_count": 32,
     "metadata": {},
     "output_type": "execute_result"
    }
   ],
   "source": [
    "# df = pd.read_csv('Data/Test_data1.csv')\n",
    "# df.head()"
   ]
  },
  {
   "cell_type": "code",
   "execution_count": 33,
   "metadata": {},
   "outputs": [
    {
     "name": "stdout",
     "output_type": "stream",
     "text": [
      "Score: 0.8\n",
      "Recall: 0.8\n",
      "Precision: 0.8\n",
      "f1: 0.8000000000000002\n"
     ]
    }
   ],
   "source": [
    "# score, recall, precision, f1 = Static_score_model_class(df['Actual Value'],df['Predict Value'],'micro')\n",
    "# print('Score:', score)\n",
    "# print('Recall:', recall)\n",
    "# print('Precision:', precision)\n",
    "# print('f1:', f1)\n"
   ]
  },
  {
   "cell_type": "code",
   "execution_count": 34,
   "metadata": {},
   "outputs": [
    {
     "data": {
      "image/png": "[encoded data removed]",
      "text/plain": [
       "<Figure size 432x360 with 2 Axes>"
      ]
     },
     "metadata": {},
     "output_type": "display_data"
    }
   ],
   "source": [
    "# Visualize_confusion_matrix(df['Actual Value'],df['Predict Value'])"
   ]
  },
  {
   "cell_type": "code",
   "execution_count": 35,
   "metadata": {},
   "outputs": [
    {
     "data": {
      "image/png": "[encoded data removed]",
      "text/plain": [
       "<Figure size 432x288 with 1 Axes>"
      ]
     },
     "metadata": {},
     "output_type": "display_data"
    }
   ],
   "source": [
    "# ROC_AUC(df['Actual Value'],df['Probality'])"
   ]
  },
  {
   "cell_type": "code",
   "execution_count": 42,
   "metadata": {},
   "outputs": [
    {
     "data": {
      "image/png": "[encoded data removed]",
      "text/plain": [
       "<Figure size 432x288 with 1 Axes>"
      ]
     },
     "metadata": {},
     "output_type": "display_data"
    }
   ],
   "source": [
    "# Precision_Recall_AUC(df['Actual Value'],df['Probality'])"
   ]
  },
  {
   "cell_type": "code",
   "execution_count": null,
   "metadata": {},
   "outputs": [],
   "source": []
  }
 ],
 "metadata": {
  "kernelspec": {
   "display_name": "Python 3",
   "language": "python",
   "name": "python3"
  },
  "language_info": {
   "codemirror_mode": {
    "name": "ipython",
    "version": 3
   },
   "file_extension": ".py",
   "mimetype": "text/x-python",
   "name": "python",
   "nbconvert_exporter": "python",
   "pygments_lexer": "ipython3",
   "version": "3.8.5"
  }
 },
 "nbformat": 4,
 "nbformat_minor": 4
}
