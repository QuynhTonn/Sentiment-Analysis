{
 "cells": [
  {
   "cell_type": "code",
   "execution_count": 1,
   "metadata": {},
   "outputs": [
    {
     "name": "stdout",
     "output_type": "stream",
     "text": [
      "importing Jupyter notebook from Lib_Evaluation_Classification_Model.ipynb\n"
     ]
    }
   ],
   "source": [
    "import pandas as pd\n",
    "import numpy as np\n",
    "import matplotlib.pyplot as plt \n",
    "from sklearn.feature_extraction.text import CountVectorizer\n",
    "from sklearn.model_selection import train_test_split\n",
    "from sklearn.linear_model import LogisticRegression\n",
    "import import_ipynb\n",
    "from Lib_Evaluation_Classification_Model import *"
   ]
  },
  {
   "cell_type": "markdown",
   "metadata": {},
   "source": [
    "### Load data"
   ]
  },
  {
   "cell_type": "code",
   "execution_count": 2,
   "metadata": {},
   "outputs": [],
   "source": [
    "data = pd.read_csv(\"data_Foody_pre.csv\")"
   ]
  },
  {
   "cell_type": "code",
   "execution_count": 3,
   "metadata": {},
   "outputs": [
    {
     "data": {
      "text/html": [
       "<div>\n",
       "<style scoped>\n",
       "    .dataframe tbody tr th:only-of-type {\n",
       "        vertical-align: middle;\n",
       "    }\n",
       "\n",
       "    .dataframe tbody tr th {\n",
       "        vertical-align: top;\n",
       "    }\n",
       "\n",
       "    .dataframe thead th {\n",
       "        text-align: right;\n",
       "    }\n",
       "</style>\n",
       "<table border=\"1\" class=\"dataframe\">\n",
       "  <thead>\n",
       "    <tr style=\"text-align: right;\">\n",
       "      <th></th>\n",
       "      <th>restaurant</th>\n",
       "      <th>review_score</th>\n",
       "      <th>review_text_t1</th>\n",
       "    </tr>\n",
       "  </thead>\n",
       "  <tbody>\n",
       "    <tr>\n",
       "      <th>0</th>\n",
       "      <td>Good Morning Restaurant</td>\n",
       "      <td>8.2</td>\n",
       "      <td>hải_sản ghé rẻ đẹp</td>\n",
       "    </tr>\n",
       "    <tr>\n",
       "      <th>1</th>\n",
       "      <td>Hạt Dẻ Trùng Khánh</td>\n",
       "      <td>8.0</td>\n",
       "      <td>đông đối_diện thích hạt_dẻ hẳn chuyên_nghiệp l...</td>\n",
       "    </tr>\n",
       "    <tr>\n",
       "      <th>2</th>\n",
       "      <td>Bột - Healthy &amp; Weight Loss Food - Shop Online</td>\n",
       "      <td>8.2</td>\n",
       "      <td>khuyến_mãi đọc thử đồ_ăn đa_số hơi khô thử</td>\n",
       "    </tr>\n",
       "    <tr>\n",
       "      <th>3</th>\n",
       "      <td>Bánh Giò Chợ Nguyễn Công Trứ</td>\n",
       "      <td>8.2</td>\n",
       "      <td>nguyễn_công_trứ thẳng đông lộn ngải_cứu kèm tu...</td>\n",
       "    </tr>\n",
       "    <tr>\n",
       "      <th>4</th>\n",
       "      <td>Quán Quảng - Bún Quảng</td>\n",
       "      <td>9.0</td>\n",
       "      <td>ngãi thơm kế sò ốc mềm không_thích dầu_mỡ chả_...</td>\n",
       "    </tr>\n",
       "  </tbody>\n",
       "</table>\n",
       "</div>"
      ],
      "text/plain": [
       "                                       restaurant  review_score  \\\n",
       "0                         Good Morning Restaurant           8.2   \n",
       "1                              Hạt Dẻ Trùng Khánh           8.0   \n",
       "2  Bột - Healthy & Weight Loss Food - Shop Online           8.2   \n",
       "3                    Bánh Giò Chợ Nguyễn Công Trứ           8.2   \n",
       "4                          Quán Quảng - Bún Quảng           9.0   \n",
       "\n",
       "                                      review_text_t1  \n",
       "0                                 hải_sản ghé rẻ đẹp  \n",
       "1  đông đối_diện thích hạt_dẻ hẳn chuyên_nghiệp l...  \n",
       "2         khuyến_mãi đọc thử đồ_ăn đa_số hơi khô thử  \n",
       "3  nguyễn_công_trứ thẳng đông lộn ngải_cứu kèm tu...  \n",
       "4  ngãi thơm kế sò ốc mềm không_thích dầu_mỡ chả_...  "
      ]
     },
     "execution_count": 3,
     "metadata": {},
     "output_type": "execute_result"
    }
   ],
   "source": [
    "data = data[['restaurant', 'review_score', 'review_text_t1']]\n",
    "data.head()"
   ]
  },
  {
   "cell_type": "code",
   "execution_count": 4,
   "metadata": {},
   "outputs": [
    {
     "name": "stdout",
     "output_type": "stream",
     "text": [
      "<class 'pandas.core.frame.DataFrame'>\n",
      "RangeIndex: 38676 entries, 0 to 38675\n",
      "Data columns (total 3 columns):\n",
      " #   Column          Non-Null Count  Dtype  \n",
      "---  ------          --------------  -----  \n",
      " 0   restaurant      38676 non-null  object \n",
      " 1   review_score    38676 non-null  float64\n",
      " 2   review_text_t1  38676 non-null  object \n",
      "dtypes: float64(1), object(2)\n",
      "memory usage: 906.6+ KB\n"
     ]
    }
   ],
   "source": [
    "data.info()"
   ]
  },
  {
   "cell_type": "markdown",
   "metadata": {},
   "source": [
    "### Data Preparation"
   ]
  },
  {
   "cell_type": "code",
   "execution_count": 5,
   "metadata": {},
   "outputs": [
    {
     "name": "stderr",
     "output_type": "stream",
     "text": [
      "<ipython-input-5-ecc1e9b5a272>:3: SettingWithCopyWarning: \n",
      "A value is trying to be set on a copy of a slice from a DataFrame\n",
      "\n",
      "See the caveats in the documentation: https://pandas.pydata.org/pandas-docs/stable/user_guide/indexing.html#returning-a-view-versus-a-copy\n",
      "  data['target'][data['review_score']>7] = 2 # positive\n",
      "<ipython-input-5-ecc1e9b5a272>:4: SettingWithCopyWarning: \n",
      "A value is trying to be set on a copy of a slice from a DataFrame\n",
      "\n",
      "See the caveats in the documentation: https://pandas.pydata.org/pandas-docs/stable/user_guide/indexing.html#returning-a-view-versus-a-copy\n",
      "  data['target'][(data['review_score']>=5)&(data['review_score']<=7)] = 1 # neutral\n"
     ]
    }
   ],
   "source": [
    "# Process target data\n",
    "data['target'] = 0 # negative\n",
    "data['target'][data['review_score']>7] = 2 # positive\n",
    "data['target'][(data['review_score']>=5)&(data['review_score']<=7)] = 1 # neutral"
   ]
  },
  {
   "cell_type": "code",
   "execution_count": 6,
   "metadata": {},
   "outputs": [
    {
     "data": {
      "text/html": [
       "<div>\n",
       "<style scoped>\n",
       "    .dataframe tbody tr th:only-of-type {\n",
       "        vertical-align: middle;\n",
       "    }\n",
       "\n",
       "    .dataframe tbody tr th {\n",
       "        vertical-align: top;\n",
       "    }\n",
       "\n",
       "    .dataframe thead th {\n",
       "        text-align: right;\n",
       "    }\n",
       "</style>\n",
       "<table border=\"1\" class=\"dataframe\">\n",
       "  <thead>\n",
       "    <tr style=\"text-align: right;\">\n",
       "      <th></th>\n",
       "      <th>restaurant</th>\n",
       "      <th>review_score</th>\n",
       "      <th>review_text_t1</th>\n",
       "      <th>target</th>\n",
       "    </tr>\n",
       "  </thead>\n",
       "  <tbody>\n",
       "    <tr>\n",
       "      <th>0</th>\n",
       "      <td>Good Morning Restaurant</td>\n",
       "      <td>8.2</td>\n",
       "      <td>hải_sản ghé rẻ đẹp</td>\n",
       "      <td>2</td>\n",
       "    </tr>\n",
       "    <tr>\n",
       "      <th>1</th>\n",
       "      <td>Hạt Dẻ Trùng Khánh</td>\n",
       "      <td>8.0</td>\n",
       "      <td>đông đối_diện thích hạt_dẻ hẳn chuyên_nghiệp l...</td>\n",
       "      <td>2</td>\n",
       "    </tr>\n",
       "    <tr>\n",
       "      <th>2</th>\n",
       "      <td>Bột - Healthy &amp; Weight Loss Food - Shop Online</td>\n",
       "      <td>8.2</td>\n",
       "      <td>khuyến_mãi đọc thử đồ_ăn đa_số hơi khô thử</td>\n",
       "      <td>2</td>\n",
       "    </tr>\n",
       "    <tr>\n",
       "      <th>3</th>\n",
       "      <td>Bánh Giò Chợ Nguyễn Công Trứ</td>\n",
       "      <td>8.2</td>\n",
       "      <td>nguyễn_công_trứ thẳng đông lộn ngải_cứu kèm tu...</td>\n",
       "      <td>2</td>\n",
       "    </tr>\n",
       "    <tr>\n",
       "      <th>4</th>\n",
       "      <td>Quán Quảng - Bún Quảng</td>\n",
       "      <td>9.0</td>\n",
       "      <td>ngãi thơm kế sò ốc mềm không_thích dầu_mỡ chả_...</td>\n",
       "      <td>2</td>\n",
       "    </tr>\n",
       "  </tbody>\n",
       "</table>\n",
       "</div>"
      ],
      "text/plain": [
       "                                       restaurant  review_score  \\\n",
       "0                         Good Morning Restaurant           8.2   \n",
       "1                              Hạt Dẻ Trùng Khánh           8.0   \n",
       "2  Bột - Healthy & Weight Loss Food - Shop Online           8.2   \n",
       "3                    Bánh Giò Chợ Nguyễn Công Trứ           8.2   \n",
       "4                          Quán Quảng - Bún Quảng           9.0   \n",
       "\n",
       "                                      review_text_t1  target  \n",
       "0                                 hải_sản ghé rẻ đẹp       2  \n",
       "1  đông đối_diện thích hạt_dẻ hẳn chuyên_nghiệp l...       2  \n",
       "2         khuyến_mãi đọc thử đồ_ăn đa_số hơi khô thử       2  \n",
       "3  nguyễn_công_trứ thẳng đông lộn ngải_cứu kèm tu...       2  \n",
       "4  ngãi thơm kế sò ốc mềm không_thích dầu_mỡ chả_...       2  "
      ]
     },
     "execution_count": 6,
     "metadata": {},
     "output_type": "execute_result"
    }
   ],
   "source": [
    "data.head()"
   ]
  },
  {
   "cell_type": "code",
   "execution_count": 7,
   "metadata": {},
   "outputs": [
    {
     "data": {
      "text/plain": [
       "target\n",
       "0     5742\n",
       "1     4465\n",
       "2    28469\n",
       "Name: review_text_t1, dtype: int64"
      ]
     },
     "execution_count": 7,
     "metadata": {},
     "output_type": "execute_result"
    }
   ],
   "source": [
    "data.groupby('target').review_text_t1.count()"
   ]
  },
  {
   "cell_type": "code",
   "execution_count": 8,
   "metadata": {},
   "outputs": [],
   "source": [
    "# Resampling using resample\n",
    "from sklearn.utils import resample"
   ]
  },
  {
   "cell_type": "code",
   "execution_count": 9,
   "metadata": {},
   "outputs": [],
   "source": [
    "df_0 = data[data['target'] == 0]\n",
    "df_1 = data[data['target'] == 1]\n",
    "df_2 = data[data['target'] == 2]"
   ]
  },
  {
   "cell_type": "code",
   "execution_count": 10,
   "metadata": {},
   "outputs": [],
   "source": [
    "f_0_resample = resample(df_0, replace=True, n_samples=17600, random_state=0)\n",
    "f_2_resample = resample(df_2, replace=False, n_samples=16600, random_state=0)\n",
    "data = pd.concat([f_0_resample, f_2_resample,df_1])"
   ]
  },
  {
   "cell_type": "code",
   "execution_count": 11,
   "metadata": {},
   "outputs": [],
   "source": [
    "# data.shape"
   ]
  },
  {
   "cell_type": "code",
   "execution_count": 12,
   "metadata": {},
   "outputs": [
    {
     "data": {
      "text/plain": [
       "pandas.core.series.Series"
      ]
     },
     "execution_count": 12,
     "metadata": {},
     "output_type": "execute_result"
    }
   ],
   "source": [
    "# Process text data\n",
    "source = data['review_text_t1']\n",
    "type(source)"
   ]
  },
  {
   "cell_type": "code",
   "execution_count": 13,
   "metadata": {},
   "outputs": [
    {
     "data": {
      "text/plain": [
       "array(['phục_vụ kém chờ đắt bàn đồ_ăn bàn quan_sát',\n",
       "       'nhấn chửi đông đứng đợi nhấn nhấn quăg điện_thoại chỏng_chơ chả khổ_sở lắm tích không_tích chửi điện_thoại cười đợi đông kịp trả_lời hèn không_thì bụg lập giả điên',\n",
       "       'đừng mỳ thơm sốt tí lỡ hẳn đen không_giờ dẹp', ...,\n",
       "       'kêu đắng hơi lạ ngâm thích quất tỏi quắt kèm trụng sôi mỳ phục_vụ lắm hix kêu lá_sách trừ chậm phục_vụ đông',\n",
       "       'xào gỏi đồ_ăn xào hơi nhạt hơi hôi nhẹ gỏi hơi cứng mềm xíu hơi',\n",
       "       'bạch công_việc ghé vô uống chờ rước lý_tưởng mát_mẻ tệ không_chuyên_nghiệp phục_vụ đợi uống kêu toán uống bình_thường tạm mắc hơi'],\n",
       "      dtype=object)"
      ]
     },
     "execution_count": 13,
     "metadata": {},
     "output_type": "execute_result"
    }
   ],
   "source": [
    "text_data = np.array(source)\n",
    "text_data"
   ]
  },
  {
   "cell_type": "code",
   "execution_count": 14,
   "metadata": {},
   "outputs": [
    {
     "data": {
      "text/plain": [
       "<38665x3500 sparse matrix of type '<class 'numpy.int64'>'\n",
       "\twith 372665 stored elements in Compressed Sparse Row format>"
      ]
     },
     "execution_count": 14,
     "metadata": {},
     "output_type": "execute_result"
    }
   ],
   "source": [
    "count = CountVectorizer(max_features=3500) \n",
    "count.fit(text_data)\n",
    "bag_of_words = count.transform(text_data)\n",
    "bag_of_words"
   ]
  },
  {
   "cell_type": "code",
   "execution_count": 15,
   "metadata": {},
   "outputs": [
    {
     "data": {
      "text/plain": [
       "array([[0, 0, 0, ..., 0, 0, 0],\n",
       "       [0, 0, 0, ..., 0, 0, 0],\n",
       "       [0, 0, 0, ..., 0, 0, 0],\n",
       "       ...,\n",
       "       [0, 0, 0, ..., 0, 0, 0],\n",
       "       [0, 0, 0, ..., 0, 0, 0],\n",
       "       [0, 0, 0, ..., 0, 0, 0]], dtype=int64)"
      ]
     },
     "execution_count": 15,
     "metadata": {},
     "output_type": "execute_result"
    }
   ],
   "source": [
    "X = bag_of_words.toarray()\n",
    "X"
   ]
  },
  {
   "cell_type": "code",
   "execution_count": 16,
   "metadata": {},
   "outputs": [
    {
     "data": {
      "text/plain": [
       "(38665, 3500)"
      ]
     },
     "execution_count": 16,
     "metadata": {},
     "output_type": "execute_result"
    }
   ],
   "source": [
    "X.shape"
   ]
  },
  {
   "cell_type": "code",
   "execution_count": 17,
   "metadata": {},
   "outputs": [],
   "source": [
    "y = np.array(data['target'])"
   ]
  },
  {
   "cell_type": "code",
   "execution_count": 18,
   "metadata": {},
   "outputs": [
    {
     "data": {
      "text/plain": [
       "(38665,)"
      ]
     },
     "execution_count": 18,
     "metadata": {},
     "output_type": "execute_result"
    }
   ],
   "source": [
    "y.shape"
   ]
  },
  {
   "cell_type": "code",
   "execution_count": 19,
   "metadata": {},
   "outputs": [],
   "source": [
    "# Split dataset\n",
    "X_train, X_test, y_train, y_test = train_test_split(X, y, test_size=0.2, random_state=1)"
   ]
  },
  {
   "cell_type": "markdown",
   "metadata": {},
   "source": [
    "### Train model"
   ]
  },
  {
   "cell_type": "code",
   "execution_count": 20,
   "metadata": {},
   "outputs": [
    {
     "name": "stdout",
     "output_type": "stream",
     "text": [
      "Fit time: 27.409210681915283\n",
      "[ 0.84649775 -1.25584208  0.40934433]\n",
      "[[ 0.06863769  0.99720816  0.97808977 ... -0.09497776  0.2068198\n",
      "   0.36504271]\n",
      " [-0.18096519 -0.56444905 -0.85631321 ... -0.34722674 -0.09531523\n",
      "  -0.13505459]\n",
      " [ 0.1123275  -0.43275911 -0.12177656 ...  0.4422045  -0.11150457\n",
      "  -0.22998812]]\n"
     ]
    },
    {
     "name": "stderr",
     "output_type": "stream",
     "text": [
      "C:\\Users\\quynh\\AppData\\Roaming\\Python\\Python38\\site-packages\\sklearn\\linear_model\\_logistic.py:762: ConvergenceWarning: lbfgs failed to converge (status=1):\n",
      "STOP: TOTAL NO. of ITERATIONS REACHED LIMIT.\n",
      "\n",
      "Increase the number of iterations (max_iter) or scale the data as shown in:\n",
      "    https://scikit-learn.org/stable/modules/preprocessing.html\n",
      "Please also refer to the documentation for alternative solver options:\n",
      "    https://scikit-learn.org/stable/modules/linear_model.html#logistic-regression\n",
      "  n_iter_i = _check_optimize_result(\n"
     ]
    }
   ],
   "source": [
    "import time\n",
    "t0 =  time.time()\n",
    "model = LogisticRegression()\n",
    "model.fit(X_train, y_train)\n",
    "t1 = time.time()\n",
    "time = t1- t0\n",
    "print(\"Fit time:\", time)\n",
    "print(model.intercept_)\n",
    "print(model.coef_)"
   ]
  },
  {
   "cell_type": "markdown",
   "metadata": {},
   "source": [
    "### Evaluate model"
   ]
  },
  {
   "cell_type": "code",
   "execution_count": 21,
   "metadata": {},
   "outputs": [
    {
     "name": "stdout",
     "output_type": "stream",
     "text": [
      "Train score:  0.8719449114185956\n",
      "Test score:  0.8247769300400879\n"
     ]
    }
   ],
   "source": [
    "# Evaluate model based on trainning_test and test_set \n",
    "print('Train score: ', model.score(X_train, y_train))\n",
    "print('Test score: ', model.score(X_test, y_test))"
   ]
  },
  {
   "cell_type": "code",
   "execution_count": 22,
   "metadata": {},
   "outputs": [
    {
     "name": "stdout",
     "output_type": "stream",
     "text": [
      "Score: 0.8719449114185956\n",
      "Recall: 0.8719449114185956\n",
      "Precision: 0.8719449114185956\n",
      "f1: 0.8719449114185956\n"
     ]
    }
   ],
   "source": [
    "score, recall, precision, f1 = Static_score_model_class(y_train, model.predict(X_train),'micro')\n",
    "print('Score:', score)\n",
    "print('Recall:', recall)\n",
    "print('Precision:', precision)\n",
    "print('f1:', f1)"
   ]
  },
  {
   "cell_type": "code",
   "execution_count": 23,
   "metadata": {},
   "outputs": [
    {
     "name": "stdout",
     "output_type": "stream",
     "text": [
      "Score: 0.8247769300400879\n",
      "Recall: 0.8247769300400879\n",
      "Precision: 0.8247769300400879\n",
      "f1: 0.8247769300400879\n"
     ]
    }
   ],
   "source": [
    "score, recall, precision, f1 = Static_score_model_class(y_test, model.predict(X_test),'micro')\n",
    "print('Score:', score)\n",
    "print('Recall:', recall)\n",
    "print('Precision:', precision)\n",
    "print('f1:', f1)"
   ]
  },
  {
   "cell_type": "code",
   "execution_count": 24,
   "metadata": {},
   "outputs": [
    {
     "data": {
      "image/png": "[encoded data removed]",
      "text/plain": [
       "<Figure size 432x360 with 2 Axes>"
      ]
     },
     "metadata": {},
     "output_type": "display_data"
    }
   ],
   "source": [
    "Visualize_confusion_matrix(y_test, model.predict(X_test))"
   ]
  },
  {
   "cell_type": "markdown",
   "metadata": {},
   "source": [
    "#### Nhận xét:\n",
    "* Thuật toán Logistic Regression cho ra model có độ chính xác xấp xỉ 82.5% và thời gian fit vào khoảng 27.41s\n",
    "* Mặc dù model có score cao hơn so với model của thuật toán Naive Bayes nhưng xét về thời gian fit và f1-score thì Naive Bayes có phần nhỉnh hơn"
   ]
  },
  {
   "cell_type": "markdown",
   "metadata": {},
   "source": [
    "### Tunning parameter"
   ]
  },
  {
   "cell_type": "code",
   "execution_count": 25,
   "metadata": {},
   "outputs": [],
   "source": [
    "Lr_param_grid = {\n",
    "    'C': [0.001, 0.01, 0.1, 1, 10, 100, 1000],\n",
    "    'max_iter':[100,200],\n",
    "    'solver': ['newton-cg', 'lbfgs', 'liblinear', 'sag', 'saga']\n",
    "}"
   ]
  },
  {
   "cell_type": "code",
   "execution_count": 26,
   "metadata": {},
   "outputs": [],
   "source": [
    "from sklearn.model_selection import GridSearchCV\n",
    "LRmodel_tune = GridSearchCV(LogisticRegression(), Lr_param_grid, cv=5)"
   ]
  },
  {
   "cell_type": "code",
   "execution_count": null,
   "metadata": {},
   "outputs": [],
   "source": [
    "LRmodel_tune.fit(X_train, y_train)"
   ]
  },
  {
   "cell_type": "code",
   "execution_count": null,
   "metadata": {},
   "outputs": [],
   "source": [
    "print(LRmodel_tune.best_score_)\n",
    "print(LRmodel_tune.best_params_)"
   ]
  },
  {
   "cell_type": "code",
   "execution_count": null,
   "metadata": {},
   "outputs": [],
   "source": []
  }
 ],
 "metadata": {
  "kernelspec": {
   "display_name": "Python 3",
   "language": "python",
   "name": "python3"
  },
  "language_info": {
   "codemirror_mode": {
    "name": "ipython",
    "version": 3
   },
   "file_extension": ".py",
   "mimetype": "text/x-python",
   "name": "python",
   "nbconvert_exporter": "python",
   "pygments_lexer": "ipython3",
   "version": "3.8.5"
  }
 },
 "nbformat": 4,
 "nbformat_minor": 4
}
